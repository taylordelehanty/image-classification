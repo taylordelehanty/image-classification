{
 "cells": [
  {
   "cell_type": "markdown",
   "metadata": {
    "collapsed": true,
    "deletable": true,
    "editable": true
   },
   "source": [
    "# Image Classification\n",
    "In this project, you'll classify images from the [CIFAR-10 dataset](https://www.cs.toronto.edu/~kriz/cifar.html).  The dataset consists of airplanes, dogs, cats, and other objects. You'll preprocess the images, then train a convolutional neural network on all the samples. The images need to be normalized and the labels need to be one-hot encoded.  You'll get to apply what you learned and build a convolutional, max pooling, dropout, and fully connected layers.  At the end, you'll get to see your neural network's predictions on the sample images.\n",
    "## Get the Data\n",
    "Run the following cell to download the [CIFAR-10 dataset for python](https://www.cs.toronto.edu/~kriz/cifar-10-python.tar.gz)."
   ]
  },
  {
   "cell_type": "code",
   "execution_count": 1,
   "metadata": {
    "collapsed": false,
    "deletable": true,
    "editable": true
   },
   "outputs": [
    {
     "name": "stdout",
     "output_type": "stream",
     "text": [
      "All files found!\n"
     ]
    }
   ],
   "source": [
    "\"\"\"\n",
    "DON'T MODIFY ANYTHING IN THIS CELL THAT IS BELOW THIS LINE\n",
    "\"\"\"\n",
    "from urllib.request import urlretrieve\n",
    "from os.path import isfile, isdir\n",
    "from tqdm import tqdm\n",
    "import problem_unittests as tests\n",
    "import tarfile\n",
    "\n",
    "cifar10_dataset_folder_path = 'cifar-10-batches-py'\n",
    "\n",
    "# Use Floyd's cifar-10 dataset if present\n",
    "floyd_cifar10_location = '/input/cifar-10/python.tar.gz'\n",
    "if isfile(floyd_cifar10_location):\n",
    "    tar_gz_path = floyd_cifar10_location\n",
    "else:\n",
    "    tar_gz_path = 'cifar-10-python.tar.gz'\n",
    "\n",
    "class DLProgress(tqdm):\n",
    "    last_block = 0\n",
    "\n",
    "    def hook(self, block_num=1, block_size=1, total_size=None):\n",
    "        self.total = total_size\n",
    "        self.update((block_num - self.last_block) * block_size)\n",
    "        self.last_block = block_num\n",
    "\n",
    "if not isfile(tar_gz_path):\n",
    "    with DLProgress(unit='B', unit_scale=True, miniters=1, desc='CIFAR-10 Dataset') as pbar:\n",
    "        urlretrieve(\n",
    "            'https://www.cs.toronto.edu/~kriz/cifar-10-python.tar.gz',\n",
    "            tar_gz_path,\n",
    "            pbar.hook)\n",
    "\n",
    "if not isdir(cifar10_dataset_folder_path):\n",
    "    with tarfile.open(tar_gz_path) as tar:\n",
    "        tar.extractall()\n",
    "        tar.close()\n",
    "\n",
    "\n",
    "tests.test_folder_path(cifar10_dataset_folder_path)"
   ]
  },
  {
   "cell_type": "markdown",
   "metadata": {
    "deletable": true,
    "editable": true
   },
   "source": [
    "## Explore the Data\n",
    "The dataset is broken into batches to prevent your machine from running out of memory.  The CIFAR-10 dataset consists of 5 batches, named `data_batch_1`, `data_batch_2`, etc.. Each batch contains the labels and images that are one of the following:\n",
    "* airplane\n",
    "* automobile\n",
    "* bird\n",
    "* cat\n",
    "* deer\n",
    "* dog\n",
    "* frog\n",
    "* horse\n",
    "* ship\n",
    "* truck\n",
    "\n",
    "Understanding a dataset is part of making predictions on the data.  Play around with the code cell below by changing the `batch_id` and `sample_id`. The `batch_id` is the id for a batch (1-5). The `sample_id` is the id for a image and label pair in the batch.\n",
    "\n",
    "Ask yourself \"What are all possible labels?\", \"What is the range of values for the image data?\", \"Are the labels in order or random?\".  Answers to questions like these will help you preprocess the data and end up with better predictions."
   ]
  },
  {
   "cell_type": "code",
   "execution_count": 2,
   "metadata": {
    "collapsed": false,
    "deletable": true,
    "editable": true
   },
   "outputs": [
    {
     "name": "stdout",
     "output_type": "stream",
     "text": [
      "\n",
      "Stats of batch 1:\n",
      "Samples: 10000\n",
      "Label Counts: {0: 1005, 1: 974, 2: 1032, 3: 1016, 4: 999, 5: 937, 6: 1030, 7: 1001, 8: 1025, 9: 981}\n",
      "First 20 Labels: [6, 9, 9, 4, 1, 1, 2, 7, 8, 3, 4, 7, 7, 2, 9, 9, 9, 3, 2, 6]\n",
      "\n",
      "Example of Image 5:\n",
      "Image - Min Value: 0 Max Value: 252\n",
      "Image - Shape: (32, 32, 3)\n",
      "Label - Label Id: 1 Name: automobile\n"
     ]
    },
    {
     "data": {
      "image/png": "[encoded data removed]",
      "text/plain": [
       "<matplotlib.figure.Figure at 0x7fd92441d8d0>"
      ]
     },
     "metadata": {
      "image/png": {
       "height": 250,
       "width": 253
      }
     },
     "output_type": "display_data"
    }
   ],
   "source": [
    "%matplotlib inline\n",
    "%config InlineBackend.figure_format = 'retina'\n",
    "\n",
    "import helper\n",
    "import numpy as np\n",
    "\n",
    "# Explore the dataset\n",
    "batch_id = 1\n",
    "sample_id = 5\n",
    "helper.display_stats(cifar10_dataset_folder_path, batch_id, sample_id)"
   ]
  },
  {
   "cell_type": "markdown",
   "metadata": {
    "deletable": true,
    "editable": true
   },
   "source": [
    "## Implement Preprocess Functions\n",
    "### Normalize\n",
    "In the cell below, implement the `normalize` function to take in image data, `x`, and return it as a normalized Numpy array. The values should be in the range of 0 to 1, inclusive.  The return object should be the same shape as `x`."
   ]
  },
  {
   "cell_type": "code",
   "execution_count": 3,
   "metadata": {
    "collapsed": false,
    "deletable": true,
    "editable": true
   },
   "outputs": [
    {
     "name": "stdout",
     "output_type": "stream",
     "text": [
      "Tests Passed\n"
     ]
    }
   ],
   "source": [
    "def normalize(x):\n",
    "    \"\"\"\n",
    "    Normalize a list of sample image data in the range of 0 to 1\n",
    "    : x: List of image data.  The image shape is (32, 32, 3)\n",
    "    : return: Numpy array of normalize data\n",
    "    \"\"\"\n",
    "    # TODO: Implement Function\n",
    "    return np.array([val/255 for val in x])\n",
    "\n",
    "\n",
    "\"\"\"\n",
    "DON'T MODIFY ANYTHING IN THIS CELL THAT IS BELOW THIS LINE\n",
    "\"\"\"\n",
    "tests.test_normalize(normalize)"
   ]
  },
  {
   "cell_type": "markdown",
   "metadata": {
    "deletable": true,
    "editable": true
   },
   "source": [
    "### One-hot encode\n",
    "Just like the previous code cell, you'll be implementing a function for preprocessing.  This time, you'll implement the `one_hot_encode` function. The input, `x`, are a list of labels.  Implement the function to return the list of labels as One-Hot encoded Numpy array.  The possible values for labels are 0 to 9. The one-hot encoding function should return the same encoding for each value between each call to `one_hot_encode`.  Make sure to save the map of encodings outside the function.\n",
    "\n",
    "Hint: Don't reinvent the wheel."
   ]
  },
  {
   "cell_type": "code",
   "execution_count": 4,
   "metadata": {
    "collapsed": false,
    "deletable": true,
    "editable": true
   },
   "outputs": [
    {
     "name": "stdout",
     "output_type": "stream",
     "text": [
      "Tests Passed\n"
     ]
    }
   ],
   "source": [
    "def one_hot_encode(x):\n",
    "    \"\"\"\n",
    "    One hot encode a list of sample labels. Return a one-hot encoded vector for each label.\n",
    "    : x: List of sample Labels\n",
    "    : return: Numpy array of one-hot encoded labels\n",
    "    \"\"\"\n",
    "    # TODO: Implement Function\n",
    "    x_len = len(x)\n",
    "    num_labels = 10\n",
    "    encoded = np.zeros(shape=(x_len, num_labels))\n",
    "    for i in range(x_len):\n",
    "        encoded[i][x[i]] = 1\n",
    "    return encoded\n",
    "\n",
    "\n",
    "\"\"\"\n",
    "DON'T MODIFY ANYTHING IN THIS CELL THAT IS BELOW THIS LINE\n",
    "\"\"\"\n",
    "tests.test_one_hot_encode(one_hot_encode)"
   ]
  },
  {
   "cell_type": "markdown",
   "metadata": {
    "deletable": true,
    "editable": true
   },
   "source": [
    "### Randomize Data\n",
    "As you saw from exploring the data above, the order of the samples are randomized.  It doesn't hurt to randomize it again, but you don't need to for this dataset."
   ]
  },
  {
   "cell_type": "markdown",
   "metadata": {
    "deletable": true,
    "editable": true
   },
   "source": [
    "## Preprocess all the data and save it\n",
    "Running the code cell below will preprocess all the CIFAR-10 data and save it to file. The code below also uses 10% of the training data for validation."
   ]
  },
  {
   "cell_type": "code",
   "execution_count": 5,
   "metadata": {
    "collapsed": true,
    "deletable": true,
    "editable": true
   },
   "outputs": [],
   "source": [
    "\"\"\"\n",
    "DON'T MODIFY ANYTHING IN THIS CELL\n",
    "\"\"\"\n",
    "# Preprocess Training, Validation, and Testing Data\n",
    "helper.preprocess_and_save_data(cifar10_dataset_folder_path, normalize, one_hot_encode)"
   ]
  },
  {
   "cell_type": "markdown",
   "metadata": {
    "deletable": true,
    "editable": true
   },
   "source": [
    "# Check Point\n",
    "This is your first checkpoint.  If you ever decide to come back to this notebook or have to restart the notebook, you can start from here.  The preprocessed data has been saved to disk."
   ]
  },
  {
   "cell_type": "code",
   "execution_count": 1,
   "metadata": {
    "collapsed": true,
    "deletable": true,
    "editable": true
   },
   "outputs": [],
   "source": [
    "\"\"\"\n",
    "DON'T MODIFY ANYTHING IN THIS CELL\n",
    "\"\"\"\n",
    "import pickle\n",
    "import problem_unittests as tests\n",
    "import helper\n",
    "\n",
    "# Load the Preprocessed Validation data\n",
    "valid_features, valid_labels = pickle.load(open('preprocess_validation.p', mode='rb'))"
   ]
  },
  {
   "cell_type": "markdown",
   "metadata": {
    "deletable": true,
    "editable": true
   },
   "source": [
    "## Build the network\n",
    "For the neural network, you'll build each layer into a function.  Most of the code you've seen has been outside of functions. To test your code more thoroughly, we require that you put each layer in a function.  This allows us to give you better feedback and test for simple mistakes using our unittests before you submit your project.\n",
    "\n",
    ">**Note:** If you're finding it hard to dedicate enough time for this course each week, we've provided a small shortcut to this part of the project. In the next couple of problems, you'll have the option to use classes from the [TensorFlow Layers](https://www.tensorflow.org/api_docs/python/tf/layers) or [TensorFlow Layers (contrib)](https://www.tensorflow.org/api_guides/python/contrib.layers) packages to build each layer, except the layers you build in the \"Convolutional and Max Pooling Layer\" section.  TF Layers is similar to Keras's and TFLearn's abstraction to layers, so it's easy to pickup.\n",
    "\n",
    ">However, if you would like to get the most out of this course, try to solve all the problems _without_ using anything from the TF Layers packages. You **can** still use classes from other packages that happen to have the same name as ones you find in TF Layers! For example, instead of using the TF Layers version of the `conv2d` class, [tf.layers.conv2d](https://www.tensorflow.org/api_docs/python/tf/layers/conv2d), you would want to use the TF Neural Network version of `conv2d`, [tf.nn.conv2d](https://www.tensorflow.org/api_docs/python/tf/nn/conv2d). \n",
    "\n",
    "Let's begin!\n",
    "\n",
    "### Input\n",
    "The neural network needs to read the image data, one-hot encoded labels, and dropout keep probability. Implement the following functions\n",
    "* Implement `neural_net_image_input`\n",
    " * Return a [TF Placeholder](https://www.tensorflow.org/api_docs/python/tf/placeholder)\n",
    " * Set the shape using `image_shape` with batch size set to `None`.\n",
    " * Name the TensorFlow placeholder \"x\" using the TensorFlow `name` parameter in the [TF Placeholder](https://www.tensorflow.org/api_docs/python/tf/placeholder).\n",
    "* Implement `neural_net_label_input`\n",
    " * Return a [TF Placeholder](https://www.tensorflow.org/api_docs/python/tf/placeholder)\n",
    " * Set the shape using `n_classes` with batch size set to `None`.\n",
    " * Name the TensorFlow placeholder \"y\" using the TensorFlow `name` parameter in the [TF Placeholder](https://www.tensorflow.org/api_docs/python/tf/placeholder).\n",
    "* Implement `neural_net_keep_prob_input`\n",
    " * Return a [TF Placeholder](https://www.tensorflow.org/api_docs/python/tf/placeholder) for dropout keep probability.\n",
    " * Name the TensorFlow placeholder \"keep_prob\" using the TensorFlow `name` parameter in the [TF Placeholder](https://www.tensorflow.org/api_docs/python/tf/placeholder).\n",
    "\n",
    "These names will be used at the end of the project to load your saved model.\n",
    "\n",
    "Note: `None` for shapes in TensorFlow allow for a dynamic size."
   ]
  },
  {
   "cell_type": "code",
   "execution_count": 2,
   "metadata": {
    "collapsed": false,
    "deletable": true,
    "editable": true
   },
   "outputs": [
    {
     "name": "stdout",
     "output_type": "stream",
     "text": [
      "Image Input Tests Passed.\n",
      "Label Input Tests Passed.\n",
      "Keep Prob Tests Passed.\n"
     ]
    }
   ],
   "source": [
    "import tensorflow as tf\n",
    "\n",
    "def neural_net_image_input(image_shape):\n",
    "    \"\"\"\n",
    "    Return a Tensor for a batch of image input\n",
    "    : image_shape: Shape of the images\n",
    "    : return: Tensor for image input.\n",
    "    \"\"\"\n",
    "    # TODO: Implement Function\n",
    "    # return tf.placeholder named \"x\" using image_shape and batch_size = None\n",
    "    return tf.placeholder(\"float\", shape=[None, image_shape[0], image_shape[1], image_shape[2]], name = \"x\")\n",
    "\n",
    "\n",
    "def neural_net_label_input(n_classes):\n",
    "    \"\"\"\n",
    "    Return a Tensor for a batch of label input\n",
    "    : n_classes: Number of classes\n",
    "    : return: Tensor for label input.\n",
    "    \"\"\"\n",
    "    # TODO: Implement Function\n",
    "    return tf.placeholder(\"float\", shape=[None, n_classes], name = \"y\")\n",
    "\n",
    "\n",
    "def neural_net_keep_prob_input():\n",
    "    \"\"\"\n",
    "    Return a Tensor for keep probability\n",
    "    : return: Tensor for keep probability.\n",
    "    \"\"\"\n",
    "    # TODO: Implement Function\n",
    "    return tf.placeholder(\"float\", name=\"keep_prob\")\n",
    "\n",
    "\n",
    "\"\"\"\n",
    "DON'T MODIFY ANYTHING IN THIS CELL THAT IS BELOW THIS LINE\n",
    "\"\"\"\n",
    "tf.reset_default_graph()\n",
    "tests.test_nn_image_inputs(neural_net_image_input)\n",
    "tests.test_nn_label_inputs(neural_net_label_input)\n",
    "tests.test_nn_keep_prob_inputs(neural_net_keep_prob_input)"
   ]
  },
  {
   "cell_type": "markdown",
   "metadata": {
    "deletable": true,
    "editable": true
   },
   "source": [
    "### Convolution and Max Pooling Layer\n",
    "Convolution layers have a lot of success with images. For this code cell, you should implement the function `conv2d_maxpool` to apply convolution then max pooling:\n",
    "* Create the weight and bias using `conv_ksize`, `conv_num_outputs` and the shape of `x_tensor`.\n",
    "* Apply a convolution to `x_tensor` using weight and `conv_strides`.\n",
    "* We recommend you use same padding, but you're welcome to use any padding.\n",
    "* Add bias\n",
    "* Add a nonlinear activation to the convolution.\n",
    "* Apply Max Pooling using `pool_ksize` and `pool_strides`.\n",
    "* We recommend you use same padding, but you're welcome to use any padding.\n",
    "\n",
    "**Note:** You **can't** use [TensorFlow Layers](https://www.tensorflow.org/api_docs/python/tf/layers) or [TensorFlow Layers (contrib)](https://www.tensorflow.org/api_guides/python/contrib.layers) for **this** layer, but you can still use TensorFlow's [Neural Network](https://www.tensorflow.org/api_docs/python/tf/nn) package. You may still use the shortcut option for all the **other** layers."
   ]
  },
  {
   "cell_type": "code",
   "execution_count": 3,
   "metadata": {
    "collapsed": false,
    "deletable": true,
    "editable": true
   },
   "outputs": [
    {
     "name": "stdout",
     "output_type": "stream",
     "text": [
      "Tests Passed\n"
     ]
    }
   ],
   "source": [
    "def conv2d_maxpool(x_tensor, conv_num_outputs, conv_ksize, conv_strides, pool_ksize, pool_strides):\n",
    "    \"\"\"\n",
    "    Apply convolution then max pooling to x_tensor\n",
    "    :param x_tensor: TensorFlow Tensor\n",
    "    :param conv_num_outputs: Number of outputs for the convolutional layer\n",
    "    :param conv_ksize: kernal size 2-D Tuple for the convolutional layer\n",
    "    :param conv_strides: Stride 2-D Tuple for convolution\n",
    "    :param pool_ksize: kernal size 2-D Tuple for pool\n",
    "    :param pool_strides: Stride 2-D Tuple for pool\n",
    "    : return: A tensor that represents convolution and max pooling of x_tensor\n",
    "    \"\"\"\n",
    "    # TODO: Implement Function\n",
    "    _, height, width, depth = x_tensor.get_shape().as_list()\n",
    "    W = tf.Variable(tf.truncated_normal((conv_ksize[0], conv_ksize[1], depth, conv_num_outputs), mean=0.0, stddev=0.01))\n",
    "    b = tf.Variable(tf.zeros((conv_num_outputs)))\n",
    "    \n",
    "    # Apply convolution (and add bias) to x_tensor using:\n",
    "    # weights, conv_strides\n",
    "    \n",
    "    # Also from Lesson 4, Ex 11:\n",
    "    # strides = [1, 2, 2, 1]\n",
    "    # (batch, height, width, depth)\n",
    "    # padding = 'SAME'\n",
    "    # conv = tf.nn.conv2d(input, filter_weights, strides, padding) + filter_bias\n",
    "    \n",
    "    strides = [1, conv_strides[0], conv_strides[1], 1]\n",
    "    padding = 'SAME'\n",
    "    covnet = tf.nn.conv2d(x_tensor, W, strides, padding)\n",
    "    # Lesson 4, Ex 17:\n",
    "    # conv_layer = tf.nn.bias_add(conv_layer, bias)\n",
    "    \n",
    "    covnet = tf.nn.bias_add(covnet, b)\n",
    "    \n",
    "    # Add a nonlinear activation to the convolution\n",
    "    # Lesson 4, Ex 17\n",
    "    covnet = tf.nn.relu(covnet)\n",
    "\n",
    "    # Apply Max Pooling using:\n",
    "    # pool_ksize, pool_strides\n",
    "    ksize = [1, pool_ksize[0], pool_ksize[1], 1]\n",
    "    strides = [1, pool_strides[0], pool_strides[1], 1]\n",
    "    covnet = tf.nn.max_pool(covnet, ksize, strides, padding)\n",
    "    \n",
    "    return covnet\n",
    "\n",
    "\n",
    "\"\"\"\n",
    "DON'T MODIFY ANYTHING IN THIS CELL THAT IS BELOW THIS LINE\n",
    "\"\"\"\n",
    "tests.test_con_pool(conv2d_maxpool)"
   ]
  },
  {
   "cell_type": "markdown",
   "metadata": {
    "deletable": true,
    "editable": true
   },
   "source": [
    "### Flatten Layer\n",
    "Implement the `flatten` function to change the dimension of `x_tensor` from a 4-D tensor to a 2-D tensor.  The output should be the shape (*Batch Size*, *Flattened Image Size*). Shortcut option: you can use classes from the [TensorFlow Layers](https://www.tensorflow.org/api_docs/python/tf/layers) or [TensorFlow Layers (contrib)](https://www.tensorflow.org/api_guides/python/contrib.layers) packages for this layer. For more of a challenge, only use other TensorFlow packages."
   ]
  },
  {
   "cell_type": "code",
   "execution_count": 4,
   "metadata": {
    "collapsed": false,
    "deletable": true,
    "editable": true
   },
   "outputs": [
    {
     "name": "stdout",
     "output_type": "stream",
     "text": [
      "Tests Passed\n"
     ]
    }
   ],
   "source": [
    "def flatten(x_tensor):\n",
    "    \"\"\"\n",
    "    Flatten x_tensor to (Batch Size, Flattened Image Size)\n",
    "    : x_tensor: A tensor of size (Batch Size, ...), where ... are the image dimensions.\n",
    "    : return: A tensor of size (Batch Size, Flattened Image Size).\n",
    "    \"\"\"\n",
    "    # TODO: Implement Function\n",
    "    dims = x_tensor.get_shape().as_list()\n",
    "    return tf.reshape(x_tensor, [-1, dims[1]*dims[2]*dims[3]])\n",
    "\n",
    "\"\"\"\n",
    "DON'T MODIFY ANYTHING IN THIS CELL THAT IS BELOW THIS LINE\n",
    "\"\"\"\n",
    "tests.test_flatten(flatten)"
   ]
  },
  {
   "cell_type": "markdown",
   "metadata": {
    "deletable": true,
    "editable": true
   },
   "source": [
    "### Fully-Connected Layer\n",
    "Implement the `fully_conn` function to apply a fully connected layer to `x_tensor` with the shape (*Batch Size*, *num_outputs*). Shortcut option: you can use classes from the [TensorFlow Layers](https://www.tensorflow.org/api_docs/python/tf/layers) or [TensorFlow Layers (contrib)](https://www.tensorflow.org/api_guides/python/contrib.layers) packages for this layer. For more of a challenge, only use other TensorFlow packages."
   ]
  },
  {
   "cell_type": "code",
   "execution_count": 5,
   "metadata": {
    "collapsed": false,
    "deletable": true,
    "editable": true
   },
   "outputs": [
    {
     "name": "stdout",
     "output_type": "stream",
     "text": [
      "Tests Passed\n"
     ]
    }
   ],
   "source": [
    "def fully_conn(x_tensor, num_outputs):\n",
    "    \"\"\"\n",
    "    Apply a fully connected layer to x_tensor using weight and bias\n",
    "    : x_tensor: A 2-D tensor where the first dimension is batch size.\n",
    "    : num_outputs: The number of output that the new tensor should be.\n",
    "    : return: A 2-D tensor where the second dimension is num_outputs.\n",
    "    \"\"\"\n",
    "    # TODO: Implement Function\n",
    "    # Weights and bias\n",
    "    W = tf.Variable(tf.truncated_normal((x_tensor.get_shape().as_list()[1], num_outputs), mean=0.0, stddev=0.01))\n",
    "    b = tf.Variable(tf.zeros(num_outputs))\n",
    "\n",
    "    # Linear multiplication\n",
    "    fc_layer = tf.add(tf.matmul(x_tensor, W), b)\n",
    "    # Activation function\n",
    "    fc_layer = tf.nn.relu(fc_layer)\n",
    "    \n",
    "    # Where to use effective methods, like dropout, inception, etc?\n",
    "    \n",
    "    return fc_layer\n",
    "\n",
    "\n",
    "\"\"\"\n",
    "DON'T MODIFY ANYTHING IN THIS CELL THAT IS BELOW THIS LINE\n",
    "\"\"\"\n",
    "tests.test_fully_conn(fully_conn)"
   ]
  },
  {
   "cell_type": "markdown",
   "metadata": {
    "deletable": true,
    "editable": true
   },
   "source": [
    "### Output Layer\n",
    "Implement the `output` function to apply a fully connected layer to `x_tensor` with the shape (*Batch Size*, *num_outputs*). Shortcut option: you can use classes from the [TensorFlow Layers](https://www.tensorflow.org/api_docs/python/tf/layers) or [TensorFlow Layers (contrib)](https://www.tensorflow.org/api_guides/python/contrib.layers) packages for this layer. For more of a challenge, only use other TensorFlow packages.\n",
    "\n",
    "**Note:** Activation, softmax, or cross entropy should **not** be applied to this."
   ]
  },
  {
   "cell_type": "code",
   "execution_count": 6,
   "metadata": {
    "collapsed": false,
    "deletable": true,
    "editable": true
   },
   "outputs": [
    {
     "name": "stdout",
     "output_type": "stream",
     "text": [
      "Tests Passed\n"
     ]
    }
   ],
   "source": [
    "def output(x_tensor, num_outputs):\n",
    "    \"\"\"\n",
    "    Apply a output layer to x_tensor using weight and bias\n",
    "    : x_tensor: A 2-D tensor where the first dimension is batch size.\n",
    "    : num_outputs: The number of output that the new tensor should be.\n",
    "    : return: A 2-D tensor where the second dimension is num_outputs.\n",
    "    \"\"\"\n",
    "    # TODO: Implement Function\n",
    "    # Weights and bias\n",
    "    W = tf.Variable(tf.truncated_normal((x_tensor.get_shape().as_list()[1], num_outputs), mean=0.0, stddev=0.01))\n",
    "    b = tf.Variable(tf.zeros(num_outputs))\n",
    "\n",
    "    out_layer = tf.add(tf.matmul(x_tensor, W), b)\n",
    "    # No activation, softmax, or cross-entropy\n",
    "    return out_layer\n",
    "\n",
    "\n",
    "\"\"\"\n",
    "DON'T MODIFY ANYTHING IN THIS CELL THAT IS BELOW THIS LINE\n",
    "\"\"\"\n",
    "tests.test_output(output)"
   ]
  },
  {
   "cell_type": "markdown",
   "metadata": {
    "deletable": true,
    "editable": true
   },
   "source": [
    "### Create Convolutional Model\n",
    "Implement the function `conv_net` to create a convolutional neural network model. The function takes in a batch of images, `x`, and outputs logits.  Use the layers you created above to create this model:\n",
    "\n",
    "* Apply 1, 2, or 3 Convolution and Max Pool layers\n",
    "* Apply a Flatten Layer\n",
    "* Apply 1, 2, or 3 Fully Connected Layers\n",
    "* Apply an Output Layer\n",
    "* Return the output\n",
    "* Apply [TensorFlow's Dropout](https://www.tensorflow.org/api_docs/python/tf/nn/dropout) to one or more layers in the model using `keep_prob`. "
   ]
  },
  {
   "cell_type": "code",
   "execution_count": 7,
   "metadata": {
    "collapsed": false,
    "deletable": true,
    "editable": true
   },
   "outputs": [
    {
     "name": "stdout",
     "output_type": "stream",
     "text": [
      "Neural Network Built!\n"
     ]
    }
   ],
   "source": [
    "conv_num_outputs  = [200, 300]\n",
    "conv_ksize        = [(3, 3), (5, 5)]\n",
    "conv_strides      = [(2, 2), (3, 3)]\n",
    "pool_ksize        = [(3, 3), (3, 3)]\n",
    "pool_strides      = [(1, 1), (2, 2)]\n",
    "full_conn_outputs = [500, 250]\n",
    "dropout_assert    = [True, True]\n",
    "num_outputs       = 10\n",
    "\n",
    "\n",
    "def conv_net(x, keep_prob):\n",
    "    \"\"\"\n",
    "    Create a convolutional neural network model\n",
    "    : x: Placeholder tensor that holds image data.\n",
    "    : keep_prob: Placeholder tensor that hold dropout keep probability.\n",
    "    : return: Tensor that represents logits\n",
    "    \"\"\"\n",
    "    # TODO: Apply 1, 2, or 3 Convolution and Max Pool layers\n",
    "    #    Play around with different number of outputs, kernel size and stride\n",
    "    # Function Definition from Above:\n",
    "    #    conv2d_maxpool(x_tensor, conv_num_outputs, conv_ksize, conv_strides, pool_ksize, pool_strides)\n",
    "    input_to_covnet = x\n",
    "    cov_layer = None\n",
    "    for i in range(len(conv_num_outputs)):\n",
    "        cov_layer = conv2d_maxpool(input_to_covnet\n",
    "                                  , conv_num_outputs[i]\n",
    "                                  , conv_ksize[i]\n",
    "                                  , conv_strides[i]\n",
    "                                  , pool_ksize[i]\n",
    "                                  , pool_strides[i])\n",
    "        input_to_covnet = cov_layer\n",
    "    del input_to_covnet\n",
    "    \n",
    "#     cov_layer1 = conv2d_maxpool(x\n",
    "#                                 , conv_num_outputs\n",
    "#                                 , conv_ksize\n",
    "#                                 , conv_strides\n",
    "#                                 , pool_ksize\n",
    "#                                 , pool_strides)\n",
    "    \n",
    "#     cov_layer2 = conv2d_maxpool(cov_layer1\n",
    "#                                 , conv_num_outputs\n",
    "#                                 , conv_ksize\n",
    "#                                 , conv_strides\n",
    "#                                 , pool_ksize\n",
    "#                                 , pool_strides)\n",
    "    \n",
    "#     cov_layer3 = conv2d_maxpool(cov_layer2\n",
    "#                                 , conv_num_outputs\n",
    "#                                 , conv_ksize\n",
    "#                                 , conv_strides\n",
    "#                                 , pool_ksize\n",
    "#                                 , pool_strides)\n",
    "\n",
    "    # TODO: Apply a Flatten Layer\n",
    "    # Function Definition from Above:\n",
    "    #   flatten(x_tensor)\n",
    "    flat_layer = flatten(cov_layer)\n",
    "\n",
    "    # TODO: Apply 1, 2, or 3 Fully Connected Layers\n",
    "    #    Play around with different number of outputs\n",
    "    # Function Definition from Above:\n",
    "    #   fully_conn(x_tensor, num_outputs)\n",
    "    \n",
    "    input_to_full = flat_layer\n",
    "    for j in range(len(full_conn_outputs)):\n",
    "        full_conn_layer = fully_conn(input_to_full\n",
    "                                     , full_conn_outputs[j])\n",
    "        if dropout_assert[j]:\n",
    "            full_conn_layer = tf.nn.dropout(full_conn_layer\n",
    "                                            , keep_prob)\n",
    "        input_to_full = full_conn_layer\n",
    "    del input_to_full\n",
    "    \n",
    "    \n",
    "#     full_conn_layer1 = fully_conn(flat_layer, full_conn_outputs)\n",
    "#     full_conn_layer1 = tf.nn.dropout(full_conn_layer1, keep_prob)\n",
    "    \n",
    "#     full_conn_layer2 = fully_conn(full_conn_layer1, full_conn_outputs)\n",
    "#     full_conn_layer2 = tf.nn.dropout(full_conn_layer2, keep_prob)\n",
    "    \n",
    "    # TODO: Apply an Output Layer\n",
    "    #    Set this to the number of classes\n",
    "    # Function Definition from Above:\n",
    "    #   output(x_tensor, num_outputs)\n",
    "    out = output(full_conn_layer, num_outputs)\n",
    "    \n",
    "    # TODO: return output\n",
    "    return out\n",
    "\n",
    "\n",
    "\"\"\"\n",
    "DON'T MODIFY ANYTHING IN THIS CELL THAT IS BELOW THIS LINE\n",
    "\"\"\"\n",
    "\n",
    "##############################\n",
    "## Build the Neural Network ##\n",
    "##############################\n",
    "\n",
    "# Remove previous weights, bias, inputs, etc..\n",
    "tf.reset_default_graph()\n",
    "\n",
    "# Inputs\n",
    "x = neural_net_image_input((32, 32, 3))\n",
    "y = neural_net_label_input(10)\n",
    "keep_prob = neural_net_keep_prob_input()\n",
    "\n",
    "# Model\n",
    "logits = conv_net(x, keep_prob)\n",
    "\n",
    "# Name logits Tensor, so that is can be loaded from disk after training\n",
    "logits = tf.identity(logits, name='logits')\n",
    "\n",
    "# Loss and Optimizer\n",
    "cost = tf.reduce_mean(tf.nn.softmax_cross_entropy_with_logits(logits=logits, labels=y))\n",
    "optimizer = tf.train.AdamOptimizer().minimize(cost)\n",
    "\n",
    "# Accuracy\n",
    "correct_pred = tf.equal(tf.argmax(logits, 1), tf.argmax(y, 1))\n",
    "accuracy = tf.reduce_mean(tf.cast(correct_pred, tf.float32), name='accuracy')\n",
    "\n",
    "tests.test_conv_net(conv_net)"
   ]
  },
  {
   "cell_type": "markdown",
   "metadata": {
    "deletable": true,
    "editable": true
   },
   "source": [
    "## Train the Neural Network\n",
    "### Single Optimization\n",
    "Implement the function `train_neural_network` to do a single optimization.  The optimization should use `optimizer` to optimize in `session` with a `feed_dict` of the following:\n",
    "* `x` for image input\n",
    "* `y` for labels\n",
    "* `keep_prob` for keep probability for dropout\n",
    "\n",
    "This function will be called for each batch, so `tf.global_variables_initializer()` has already been called.\n",
    "\n",
    "Note: Nothing needs to be returned. This function is only optimizing the neural network."
   ]
  },
  {
   "cell_type": "code",
   "execution_count": 8,
   "metadata": {
    "collapsed": false,
    "deletable": true,
    "editable": true
   },
   "outputs": [
    {
     "name": "stdout",
     "output_type": "stream",
     "text": [
      "Tests Passed\n"
     ]
    }
   ],
   "source": [
    "def train_neural_network(session, optimizer, keep_probability, feature_batch, label_batch):\n",
    "    \"\"\"\n",
    "    Optimize the session on a batch of images and labels\n",
    "    : session: Current TensorFlow session\n",
    "    : optimizer: TensorFlow optimizer function\n",
    "    : keep_probability: keep probability\n",
    "    : feature_batch: Batch of Numpy image data\n",
    "    : label_batch: Batch of Numpy label data\n",
    "    \"\"\"\n",
    "    # TODO: Implement Function\n",
    "    session.run(optimizer, feed_dict={x: feature_batch, y: label_batch, keep_prob: keep_probability})    \n",
    "\n",
    "\"\"\"\n",
    "DON'T MODIFY ANYTHING IN THIS CELL THAT IS BELOW THIS LINE\n",
    "\"\"\"\n",
    "tests.test_train_nn(train_neural_network)"
   ]
  },
  {
   "cell_type": "markdown",
   "metadata": {
    "deletable": true,
    "editable": true
   },
   "source": [
    "### Show Stats\n",
    "Implement the function `print_stats` to print loss and validation accuracy.  Use the global variables `valid_features` and `valid_labels` to calculate validation accuracy.  Use a keep probability of `1.0` to calculate the loss and validation accuracy."
   ]
  },
  {
   "cell_type": "code",
   "execution_count": 9,
   "metadata": {
    "collapsed": true,
    "deletable": true,
    "editable": true
   },
   "outputs": [],
   "source": [
    "def print_stats(session, feature_batch, label_batch, cost, accuracy):\n",
    "    \"\"\"\n",
    "    Print information about loss and validation accuracy\n",
    "    : session: Current TensorFlow session\n",
    "    : feature_batch: Batch of Numpy image data\n",
    "    : label_batch: Batch of Numpy label data\n",
    "    : cost: TensorFlow cost function\n",
    "    : accuracy: TensorFlow accuracy function\n",
    "    \"\"\"\n",
    "    # TODO: Implement Function\n",
    "    loss = session.run(cost, feed_dict={x: feature_batch, y: label_batch, keep_prob: 1.0})\n",
    "    val_acc = session.run(accuracy, feed_dict={x: valid_features, y: valid_labels, keep_prob: 1.0})\n",
    "    \n",
    "    print(\"\\nLoss: {}\\nValidation Acc: {}\".format(loss, val_acc))\n",
    "    "
   ]
  },
  {
   "cell_type": "markdown",
   "metadata": {
    "deletable": true,
    "editable": true
   },
   "source": [
    "### Hyperparameters\n",
    "Tune the following parameters:\n",
    "* Set `epochs` to the number of iterations until the network stops learning or start overfitting\n",
    "* Set `batch_size` to the highest number that your machine has memory for.  Most people set them to common sizes of memory:\n",
    " * 64\n",
    " * 128\n",
    " * 256\n",
    " * ...\n",
    "* Set `keep_probability` to the probability of keeping a node using dropout"
   ]
  },
  {
   "cell_type": "code",
   "execution_count": 10,
   "metadata": {
    "collapsed": true,
    "deletable": true,
    "editable": true
   },
   "outputs": [],
   "source": [
    "# TODO: Tune Parameters\n",
    "epochs = 20\n",
    "batch_size = 128\n",
    "keep_probability = 0.6"
   ]
  },
  {
   "cell_type": "markdown",
   "metadata": {
    "deletable": true,
    "editable": true
   },
   "source": [
    "### Train on a Single CIFAR-10 Batch\n",
    "Instead of training the neural network on all the CIFAR-10 batches of data, let's use a single batch. This should save time while you iterate on the model to get a better accuracy.  Once the final validation accuracy is 50% or greater, run the model on all the data in the next section."
   ]
  },
  {
   "cell_type": "code",
   "execution_count": 11,
   "metadata": {
    "collapsed": false,
    "deletable": true,
    "editable": true
   },
   "outputs": [
    {
     "name": "stdout",
     "output_type": "stream",
     "text": [
      "Checking the Training on a Single Batch...\n",
      "Epoch  1, CIFAR-10 Batch 1:  \n",
      "Loss: 2.0822205543518066\n",
      "Validation Acc: 0.20919999480247498\n",
      "Epoch  2, CIFAR-10 Batch 1:  \n",
      "Loss: 1.9978437423706055\n",
      "Validation Acc: 0.30059999227523804\n",
      "Epoch  3, CIFAR-10 Batch 1:  \n",
      "Loss: 1.886986494064331\n",
      "Validation Acc: 0.339199960231781\n",
      "Epoch  4, CIFAR-10 Batch 1:  \n",
      "Loss: 1.7315040826797485\n",
      "Validation Acc: 0.37959998846054077\n",
      "Epoch  5, CIFAR-10 Batch 1:  \n",
      "Loss: 1.6626378297805786\n",
      "Validation Acc: 0.40779998898506165\n",
      "Epoch  6, CIFAR-10 Batch 1:  \n",
      "Loss: 1.5379785299301147\n",
      "Validation Acc: 0.4449999928474426\n",
      "Epoch  7, CIFAR-10 Batch 1:  \n",
      "Loss: 1.456544280052185\n",
      "Validation Acc: 0.46119996905326843\n",
      "Epoch  8, CIFAR-10 Batch 1:  \n",
      "Loss: 1.3111637830734253\n",
      "Validation Acc: 0.4633999764919281\n",
      "Epoch  9, CIFAR-10 Batch 1:  \n",
      "Loss: 1.2696274518966675\n",
      "Validation Acc: 0.4869999587535858\n",
      "Epoch 10, CIFAR-10 Batch 1:  \n",
      "Loss: 1.0804566144943237\n",
      "Validation Acc: 0.5063999891281128\n",
      "Epoch 11, CIFAR-10 Batch 1:  \n",
      "Loss: 0.9839566349983215\n",
      "Validation Acc: 0.5209999084472656\n",
      "Epoch 12, CIFAR-10 Batch 1:  \n",
      "Loss: 0.9014410376548767\n",
      "Validation Acc: 0.49779999256134033\n",
      "Epoch 13, CIFAR-10 Batch 1:  \n",
      "Loss: 0.865525484085083\n",
      "Validation Acc: 0.5107999444007874\n",
      "Epoch 14, CIFAR-10 Batch 1:  \n",
      "Loss: 0.7989235520362854\n",
      "Validation Acc: 0.5241999626159668\n",
      "Epoch 15, CIFAR-10 Batch 1:  \n",
      "Loss: 0.7407000064849854\n",
      "Validation Acc: 0.5343999266624451\n",
      "Epoch 16, CIFAR-10 Batch 1:  \n",
      "Loss: 0.6550233364105225\n",
      "Validation Acc: 0.5547999143600464\n",
      "Epoch 17, CIFAR-10 Batch 1:  \n",
      "Loss: 0.5925876498222351\n",
      "Validation Acc: 0.5429999828338623\n",
      "Epoch 18, CIFAR-10 Batch 1:  \n",
      "Loss: 0.5390417575836182\n",
      "Validation Acc: 0.5517999529838562\n",
      "Epoch 19, CIFAR-10 Batch 1:  \n",
      "Loss: 0.506697952747345\n",
      "Validation Acc: 0.5393999814987183\n",
      "Epoch 20, CIFAR-10 Batch 1:  \n",
      "Loss: 0.4585912525653839\n",
      "Validation Acc: 0.5555999279022217\n"
     ]
    }
   ],
   "source": [
    "\"\"\"\n",
    "DON'T MODIFY ANYTHING IN THIS CELL\n",
    "\"\"\"\n",
    "print('Checking the Training on a Single Batch...')\n",
    "with tf.Session() as sess:\n",
    "    # Initializing the variables\n",
    "    sess.run(tf.global_variables_initializer())\n",
    "    \n",
    "    # Training cycle\n",
    "    for epoch in range(epochs):\n",
    "        batch_i = 1\n",
    "        for batch_features, batch_labels in helper.load_preprocess_training_batch(batch_i, batch_size):\n",
    "            train_neural_network(sess, optimizer, keep_probability, batch_features, batch_labels)\n",
    "        print('Epoch {:>2}, CIFAR-10 Batch {}:  '.format(epoch + 1, batch_i), end='')\n",
    "        print_stats(sess, batch_features, batch_labels, cost, accuracy)"
   ]
  },
  {
   "cell_type": "markdown",
   "metadata": {
    "deletable": true,
    "editable": true
   },
   "source": [
    "### Fully Train the Model\n",
    "Now that you got a good accuracy with a single CIFAR-10 batch, try it with all five batches."
   ]
  },
  {
   "cell_type": "code",
   "execution_count": 12,
   "metadata": {
    "collapsed": false,
    "deletable": true,
    "editable": true
   },
   "outputs": [
    {
     "name": "stdout",
     "output_type": "stream",
     "text": [
      "Training...\n",
      "Epoch  1, CIFAR-10 Batch 1:  \n",
      "Loss: 2.0826122760772705\n",
      "Validation Acc: 0.20999997854232788\n",
      "Epoch  1, CIFAR-10 Batch 2:  \n",
      "Loss: 1.8329768180847168\n",
      "Validation Acc: 0.27639999985694885\n",
      "Epoch  1, CIFAR-10 Batch 3:  \n",
      "Loss: 1.5861072540283203\n",
      "Validation Acc: 0.3397999405860901\n",
      "Epoch  1, CIFAR-10 Batch 4:  \n",
      "Loss: 1.6644859313964844\n",
      "Validation Acc: 0.40119999647140503\n",
      "Epoch  1, CIFAR-10 Batch 5:  \n",
      "Loss: 1.5977556705474854\n",
      "Validation Acc: 0.41679999232292175\n",
      "Epoch  2, CIFAR-10 Batch 1:  \n",
      "Loss: 1.634225606918335\n",
      "Validation Acc: 0.41199997067451477\n",
      "Epoch  2, CIFAR-10 Batch 2:  \n",
      "Loss: 1.4028921127319336\n",
      "Validation Acc: 0.451200008392334\n",
      "Epoch  2, CIFAR-10 Batch 3:  \n",
      "Loss: 1.0835013389587402\n",
      "Validation Acc: 0.4999999701976776\n",
      "Epoch  2, CIFAR-10 Batch 4:  \n",
      "Loss: 1.3644342422485352\n",
      "Validation Acc: 0.4843999743461609\n",
      "Epoch  2, CIFAR-10 Batch 5:  \n",
      "Loss: 1.3354499340057373\n",
      "Validation Acc: 0.5309999585151672\n",
      "Epoch  3, CIFAR-10 Batch 1:  \n",
      "Loss: 1.2346247434616089\n",
      "Validation Acc: 0.5431999564170837\n",
      "Epoch  3, CIFAR-10 Batch 2:  \n",
      "Loss: 1.1766693592071533\n",
      "Validation Acc: 0.54339998960495\n",
      "Epoch  3, CIFAR-10 Batch 3:  \n",
      "Loss: 1.0300894975662231\n",
      "Validation Acc: 0.5521999001502991\n",
      "Epoch  3, CIFAR-10 Batch 4:  \n",
      "Loss: 1.1348217725753784\n",
      "Validation Acc: 0.562999963760376\n",
      "Epoch  3, CIFAR-10 Batch 5:  \n",
      "Loss: 1.208310604095459\n",
      "Validation Acc: 0.5761998891830444\n",
      "Epoch  4, CIFAR-10 Batch 1:  \n",
      "Loss: 1.1386409997940063\n",
      "Validation Acc: 0.5593999624252319\n",
      "Epoch  4, CIFAR-10 Batch 2:  \n",
      "Loss: 1.0569807291030884\n",
      "Validation Acc: 0.5525999069213867\n",
      "Epoch  4, CIFAR-10 Batch 3:  \n",
      "Loss: 0.90590500831604\n",
      "Validation Acc: 0.5779998302459717\n",
      "Epoch  4, CIFAR-10 Batch 4:  \n",
      "Loss: 0.9569357633590698\n",
      "Validation Acc: 0.5935999155044556\n",
      "Epoch  4, CIFAR-10 Batch 5:  \n",
      "Loss: 0.9571707248687744\n",
      "Validation Acc: 0.6089999079704285\n",
      "Epoch  5, CIFAR-10 Batch 1:  \n",
      "Loss: 0.9388939738273621\n",
      "Validation Acc: 0.6075999140739441\n",
      "Epoch  5, CIFAR-10 Batch 2:  \n",
      "Loss: 0.9024420976638794\n",
      "Validation Acc: 0.5695999264717102\n",
      "Epoch  5, CIFAR-10 Batch 3:  \n",
      "Loss: 0.7518398761749268\n",
      "Validation Acc: 0.595599889755249\n",
      "Epoch  5, CIFAR-10 Batch 4:  \n",
      "Loss: 0.7728928327560425\n",
      "Validation Acc: 0.6225998997688293\n",
      "Epoch  5, CIFAR-10 Batch 5:  \n",
      "Loss: 0.8135484457015991\n",
      "Validation Acc: 0.6495999097824097\n",
      "Epoch  6, CIFAR-10 Batch 1:  \n",
      "Loss: 0.9000284671783447\n",
      "Validation Acc: 0.6337999105453491\n",
      "Epoch  6, CIFAR-10 Batch 2:  \n",
      "Loss: 0.8025214672088623\n",
      "Validation Acc: 0.6237998604774475\n",
      "Epoch  6, CIFAR-10 Batch 3:  \n",
      "Loss: 0.5499129891395569\n",
      "Validation Acc: 0.6415998339653015\n",
      "Epoch  6, CIFAR-10 Batch 4:  \n",
      "Loss: 0.6219425797462463\n",
      "Validation Acc: 0.6487998962402344\n",
      "Epoch  6, CIFAR-10 Batch 5:  \n",
      "Loss: 0.6497236490249634\n",
      "Validation Acc: 0.6557998657226562\n",
      "Epoch  7, CIFAR-10 Batch 1:  \n",
      "Loss: 0.7321972846984863\n",
      "Validation Acc: 0.6525999307632446\n",
      "Epoch  7, CIFAR-10 Batch 2:  \n",
      "Loss: 0.7092875242233276\n",
      "Validation Acc: 0.6501998901367188\n",
      "Epoch  7, CIFAR-10 Batch 3:  \n",
      "Loss: 0.4967949092388153\n",
      "Validation Acc: 0.6565998792648315\n",
      "Epoch  7, CIFAR-10 Batch 4:  \n",
      "Loss: 0.5335349440574646\n",
      "Validation Acc: 0.6745998859405518\n",
      "Epoch  7, CIFAR-10 Batch 5:  \n",
      "Loss: 0.5476073026657104\n",
      "Validation Acc: 0.6739999055862427\n",
      "Epoch  8, CIFAR-10 Batch 1:  \n",
      "Loss: 0.715865969657898\n",
      "Validation Acc: 0.6405999064445496\n",
      "Epoch  8, CIFAR-10 Batch 2:  \n",
      "Loss: 0.5927479267120361\n",
      "Validation Acc: 0.6393998861312866\n",
      "Epoch  8, CIFAR-10 Batch 3:  \n",
      "Loss: 0.40388625860214233\n",
      "Validation Acc: 0.6651999354362488\n",
      "Epoch  8, CIFAR-10 Batch 4:  \n",
      "Loss: 0.45635882019996643\n",
      "Validation Acc: 0.6913999319076538\n",
      "Epoch  8, CIFAR-10 Batch 5:  \n",
      "Loss: 0.4374849200248718\n",
      "Validation Acc: 0.682999849319458\n",
      "Epoch  9, CIFAR-10 Batch 1:  \n",
      "Loss: 0.5849063396453857\n",
      "Validation Acc: 0.6567999124526978\n",
      "Epoch  9, CIFAR-10 Batch 2:  \n",
      "Loss: 0.5067033171653748\n",
      "Validation Acc: 0.675399899482727\n",
      "Epoch  9, CIFAR-10 Batch 3:  \n",
      "Loss: 0.34585344791412354\n",
      "Validation Acc: 0.6843998432159424\n",
      "Epoch  9, CIFAR-10 Batch 4:  \n",
      "Loss: 0.42050498723983765\n",
      "Validation Acc: 0.6945998668670654\n",
      "Epoch  9, CIFAR-10 Batch 5:  \n",
      "Loss: 0.3357624113559723\n",
      "Validation Acc: 0.6921998858451843\n",
      "Epoch 10, CIFAR-10 Batch 1:  \n",
      "Loss: 0.5160084962844849\n",
      "Validation Acc: 0.6901999115943909\n",
      "Epoch 10, CIFAR-10 Batch 2:  \n",
      "Loss: 0.42936378717422485\n",
      "Validation Acc: 0.6787998676300049\n",
      "Epoch 10, CIFAR-10 Batch 3:  \n",
      "Loss: 0.3170416057109833\n",
      "Validation Acc: 0.6747998595237732\n",
      "Epoch 10, CIFAR-10 Batch 4:  \n",
      "Loss: 0.36328577995300293\n",
      "Validation Acc: 0.6953998804092407\n",
      "Epoch 10, CIFAR-10 Batch 5:  \n",
      "Loss: 0.33733612298965454\n",
      "Validation Acc: 0.6833999156951904\n",
      "Epoch 11, CIFAR-10 Batch 1:  \n",
      "Loss: 0.4532167911529541\n",
      "Validation Acc: 0.6927998065948486\n",
      "Epoch 11, CIFAR-10 Batch 2:  \n",
      "Loss: 0.4308132529258728\n",
      "Validation Acc: 0.6933999061584473\n",
      "Epoch 11, CIFAR-10 Batch 3:  \n",
      "Loss: 0.23923353850841522\n",
      "Validation Acc: 0.693199872970581\n",
      "Epoch 11, CIFAR-10 Batch 4:  \n",
      "Loss: 0.3059196174144745\n",
      "Validation Acc: 0.6895999312400818\n",
      "Epoch 11, CIFAR-10 Batch 5:  \n",
      "Loss: 0.313900351524353\n",
      "Validation Acc: 0.6749998331069946\n",
      "Epoch 12, CIFAR-10 Batch 1:  \n",
      "Loss: 0.3903855085372925\n",
      "Validation Acc: 0.7009998559951782\n",
      "Epoch 12, CIFAR-10 Batch 2:  \n",
      "Loss: 0.3617415428161621\n",
      "Validation Acc: 0.6991997957229614\n",
      "Epoch 12, CIFAR-10 Batch 3:  \n",
      "Loss: 0.19980520009994507\n",
      "Validation Acc: 0.6863998174667358\n",
      "Epoch 12, CIFAR-10 Batch 4:  \n",
      "Loss: 0.2948002517223358\n",
      "Validation Acc: 0.69899982213974\n",
      "Epoch 12, CIFAR-10 Batch 5:  \n",
      "Loss: 0.2907864451408386\n",
      "Validation Acc: 0.6943998336791992\n",
      "Epoch 13, CIFAR-10 Batch 1:  \n",
      "Loss: 0.37906894087791443\n",
      "Validation Acc: 0.7071998119354248\n",
      "Epoch 13, CIFAR-10 Batch 2:  \n",
      "Loss: 0.2794800400733948\n",
      "Validation Acc: 0.6945998668670654\n",
      "Epoch 13, CIFAR-10 Batch 3:  \n",
      "Loss: 0.15959692001342773\n",
      "Validation Acc: 0.7013999223709106\n",
      "Epoch 13, CIFAR-10 Batch 4:  \n",
      "Loss: 0.3097994029521942\n",
      "Validation Acc: 0.708599865436554\n",
      "Epoch 13, CIFAR-10 Batch 5:  \n",
      "Loss: 0.24492502212524414\n",
      "Validation Acc: 0.6917998194694519\n",
      "Epoch 14, CIFAR-10 Batch 1:  \n",
      "Loss: 0.3293794095516205\n",
      "Validation Acc: 0.7013999223709106\n",
      "Epoch 14, CIFAR-10 Batch 2:  \n",
      "Loss: 0.2260865718126297\n",
      "Validation Acc: 0.7027998566627502\n",
      "Epoch 14, CIFAR-10 Batch 3:  \n",
      "Loss: 0.15279287099838257\n",
      "Validation Acc: 0.702599823474884\n",
      "Epoch 14, CIFAR-10 Batch 4:  \n",
      "Loss: 0.2097560167312622\n",
      "Validation Acc: 0.7033997774124146\n",
      "Epoch 14, CIFAR-10 Batch 5:  \n",
      "Loss: 0.17981332540512085\n",
      "Validation Acc: 0.7041998505592346\n",
      "Epoch 15, CIFAR-10 Batch 1:  \n",
      "Loss: 0.3071228265762329\n",
      "Validation Acc: 0.6997998356819153\n",
      "Epoch 15, CIFAR-10 Batch 2:  \n",
      "Loss: 0.2053644359111786\n",
      "Validation Acc: 0.6957998275756836\n",
      "Epoch 15, CIFAR-10 Batch 3:  \n",
      "Loss: 0.15098895132541656\n",
      "Validation Acc: 0.6987998485565186\n",
      "Epoch 15, CIFAR-10 Batch 4:  \n",
      "Loss: 0.22376921772956848\n",
      "Validation Acc: 0.7067998647689819\n",
      "Epoch 15, CIFAR-10 Batch 5:  \n",
      "Loss: 0.14319626986980438\n",
      "Validation Acc: 0.7001998424530029\n",
      "Epoch 16, CIFAR-10 Batch 1:  \n",
      "Loss: 0.23373384773731232\n",
      "Validation Acc: 0.7197998762130737\n",
      "Epoch 16, CIFAR-10 Batch 2:  \n",
      "Loss: 0.16819395124912262\n",
      "Validation Acc: 0.7129998803138733\n",
      "Epoch 16, CIFAR-10 Batch 3:  \n",
      "Loss: 0.1305144727230072\n",
      "Validation Acc: 0.7021998167037964\n",
      "Epoch 16, CIFAR-10 Batch 4:  \n",
      "Loss: 0.17045852541923523\n",
      "Validation Acc: 0.71399986743927\n",
      "Epoch 16, CIFAR-10 Batch 5:  \n",
      "Loss: 0.10610426962375641\n",
      "Validation Acc: 0.7123998403549194\n",
      "Epoch 17, CIFAR-10 Batch 1:  \n",
      "Loss: 0.2795923352241516\n",
      "Validation Acc: 0.7075998783111572\n",
      "Epoch 17, CIFAR-10 Batch 2:  \n",
      "Loss: 0.2253519892692566\n",
      "Validation Acc: 0.7039998769760132\n",
      "Epoch 17, CIFAR-10 Batch 3:  \n",
      "Loss: 0.13782988488674164\n",
      "Validation Acc: 0.7101998329162598\n",
      "Epoch 17, CIFAR-10 Batch 4:  \n",
      "Loss: 0.14342881739139557\n",
      "Validation Acc: 0.7063997983932495\n",
      "Epoch 17, CIFAR-10 Batch 5:  \n",
      "Loss: 0.1011139452457428\n",
      "Validation Acc: 0.7103998064994812\n",
      "Epoch 18, CIFAR-10 Batch 1:  \n",
      "Loss: 0.2503991723060608\n",
      "Validation Acc: 0.7187998294830322\n",
      "Epoch 18, CIFAR-10 Batch 2:  \n",
      "Loss: 0.12067136913537979\n",
      "Validation Acc: 0.6995998620986938\n",
      "Epoch 18, CIFAR-10 Batch 3:  \n",
      "Loss: 0.09908366948366165\n",
      "Validation Acc: 0.6881998777389526\n",
      "Epoch 18, CIFAR-10 Batch 4:  \n",
      "Loss: 0.10709893703460693\n",
      "Validation Acc: 0.7057998180389404\n",
      "Epoch 18, CIFAR-10 Batch 5:  \n",
      "Loss: 0.11669717729091644\n",
      "Validation Acc: 0.7011998295783997\n",
      "Epoch 19, CIFAR-10 Batch 1:  \n",
      "Loss: 0.1751197725534439\n",
      "Validation Acc: 0.7211998701095581\n",
      "Epoch 19, CIFAR-10 Batch 2:  \n",
      "Loss: 0.14452996850013733\n",
      "Validation Acc: 0.702599823474884\n",
      "Epoch 19, CIFAR-10 Batch 3:  \n",
      "Loss: 0.12363813817501068\n",
      "Validation Acc: 0.6879999041557312\n",
      "Epoch 19, CIFAR-10 Batch 4:  \n",
      "Loss: 0.13730695843696594\n",
      "Validation Acc: 0.6871998906135559\n",
      "Epoch 19, CIFAR-10 Batch 5:  \n",
      "Loss: 0.1103341281414032\n",
      "Validation Acc: 0.707399845123291\n",
      "Epoch 20, CIFAR-10 Batch 1:  \n",
      "Loss: 0.14125023782253265\n",
      "Validation Acc: 0.7193998694419861\n",
      "Epoch 20, CIFAR-10 Batch 2:  \n",
      "Loss: 0.11322072148323059\n",
      "Validation Acc: 0.7001999020576477\n",
      "Epoch 20, CIFAR-10 Batch 3:  \n",
      "Loss: 0.09969005733728409\n",
      "Validation Acc: 0.7009998559951782\n",
      "Epoch 20, CIFAR-10 Batch 4:  \n",
      "Loss: 0.13329797983169556\n",
      "Validation Acc: 0.7013998627662659\n",
      "Epoch 20, CIFAR-10 Batch 5:  \n",
      "Loss: 0.07964091002941132\n",
      "Validation Acc: 0.7119998931884766\n"
     ]
    }
   ],
   "source": [
    "\"\"\"\n",
    "DON'T MODIFY ANYTHING IN THIS CELL\n",
    "\"\"\"\n",
    "save_model_path = './image_classification'\n",
    "\n",
    "print('Training...')\n",
    "with tf.Session() as sess:\n",
    "    # Initializing the variables\n",
    "    sess.run(tf.global_variables_initializer())\n",
    "    \n",
    "    # Training cycle\n",
    "    for epoch in range(epochs):\n",
    "        # Loop over all batches\n",
    "        n_batches = 5\n",
    "        for batch_i in range(1, n_batches + 1):\n",
    "            for batch_features, batch_labels in helper.load_preprocess_training_batch(batch_i, batch_size):\n",
    "                train_neural_network(sess, optimizer, keep_probability, batch_features, batch_labels)\n",
    "            print('Epoch {:>2}, CIFAR-10 Batch {}:  '.format(epoch + 1, batch_i), end='')\n",
    "            print_stats(sess, batch_features, batch_labels, cost, accuracy)\n",
    "            \n",
    "    # Save Model\n",
    "    saver = tf.train.Saver()\n",
    "    save_path = saver.save(sess, save_model_path)"
   ]
  },
  {
   "cell_type": "markdown",
   "metadata": {
    "deletable": true,
    "editable": true
   },
   "source": [
    "# Checkpoint\n",
    "The model has been saved to disk.\n",
    "## Test Model\n",
    "Test your model against the test dataset.  This will be your final accuracy. You should have an accuracy greater than 50%. If you don't, keep tweaking the model architecture and parameters."
   ]
  },
  {
   "cell_type": "code",
   "execution_count": 13,
   "metadata": {
    "collapsed": false,
    "deletable": true,
    "editable": true
   },
   "outputs": [
    {
     "name": "stdout",
     "output_type": "stream",
     "text": [
      "Testing Accuracy: 0.7066851265822784\n",
      "\n"
     ]
    },
    {
     "data": {
      "image/png": "[encoded data removed]",
      "text/plain": [
       "<matplotlib.figure.Figure at 0x7f6d64d70f60>"
      ]
     },
     "metadata": {
      "image/png": {
       "height": 319,
       "width": 355
      }
     },
     "output_type": "display_data"
    }
   ],
   "source": [
    "\"\"\"\n",
    "DON'T MODIFY ANYTHING IN THIS CELL\n",
    "\"\"\"\n",
    "%matplotlib inline\n",
    "%config InlineBackend.figure_format = 'retina'\n",
    "\n",
    "import tensorflow as tf\n",
    "import pickle\n",
    "import helper\n",
    "import random\n",
    "\n",
    "# Set batch size if not already set\n",
    "try:\n",
    "    if batch_size:\n",
    "        pass\n",
    "except NameError:\n",
    "    batch_size = 64\n",
    "\n",
    "save_model_path = './image_classification'\n",
    "n_samples = 4\n",
    "top_n_predictions = 3\n",
    "\n",
    "def test_model():\n",
    "    \"\"\"\n",
    "    Test the saved model against the test dataset\n",
    "    \"\"\"\n",
    "\n",
    "    test_features, test_labels = pickle.load(open('preprocess_test.p', mode='rb'))\n",
    "    loaded_graph = tf.Graph()\n",
    "\n",
    "    with tf.Session(graph=loaded_graph) as sess:\n",
    "        # Load model\n",
    "        loader = tf.train.import_meta_graph(save_model_path + '.meta')\n",
    "        loader.restore(sess, save_model_path)\n",
    "\n",
    "        # Get Tensors from loaded model\n",
    "        loaded_x = loaded_graph.get_tensor_by_name('x:0')\n",
    "        loaded_y = loaded_graph.get_tensor_by_name('y:0')\n",
    "        loaded_keep_prob = loaded_graph.get_tensor_by_name('keep_prob:0')\n",
    "        loaded_logits = loaded_graph.get_tensor_by_name('logits:0')\n",
    "        loaded_acc = loaded_graph.get_tensor_by_name('accuracy:0')\n",
    "        \n",
    "        # Get accuracy in batches for memory limitations\n",
    "        test_batch_acc_total = 0\n",
    "        test_batch_count = 0\n",
    "        \n",
    "        for test_feature_batch, test_label_batch in helper.batch_features_labels(test_features, test_labels, batch_size):\n",
    "            test_batch_acc_total += sess.run(\n",
    "                loaded_acc,\n",
    "                feed_dict={loaded_x: test_feature_batch, loaded_y: test_label_batch, loaded_keep_prob: 1.0})\n",
    "            test_batch_count += 1\n",
    "\n",
    "        print('Testing Accuracy: {}\\n'.format(test_batch_acc_total/test_batch_count))\n",
    "\n",
    "        # Print Random Samples\n",
    "        random_test_features, random_test_labels = tuple(zip(*random.sample(list(zip(test_features, test_labels)), n_samples)))\n",
    "        random_test_predictions = sess.run(\n",
    "            tf.nn.top_k(tf.nn.softmax(loaded_logits), top_n_predictions),\n",
    "            feed_dict={loaded_x: random_test_features, loaded_y: random_test_labels, loaded_keep_prob: 1.0})\n",
    "        helper.display_image_predictions(random_test_features, random_test_labels, random_test_predictions)\n",
    "\n",
    "\n",
    "test_model()"
   ]
  },
  {
   "cell_type": "markdown",
   "metadata": {
    "deletable": true,
    "editable": true
   },
   "source": [
    "## Why 50-80% Accuracy?\n",
    "You might be wondering why you can't get an accuracy any higher. First things first, 50% isn't bad for a simple CNN.  Pure guessing would get you 10% accuracy. However, you might notice people are getting scores [well above 80%](http://rodrigob.github.io/are_we_there_yet/build/classification_datasets_results.html#43494641522d3130).  That's because we haven't taught you all there is to know about neural networks. We still need to cover a few more techniques.\n",
    "## Submitting This Project\n",
    "When submitting this project, make sure to run all the cells before saving the notebook.  Save the notebook file as \"dlnd_image_classification.ipynb\" and save it as a HTML file under \"File\" -> \"Download as\".  Include the \"helper.py\" and \"problem_unittests.py\" files in your submission."
   ]
  }
 ],
 "metadata": {
  "kernelspec": {
   "display_name": "Python 3",
   "language": "python",
   "name": "python3"
  },
  "language_info": {
   "codemirror_mode": {
    "name": "ipython",
    "version": 3
   },
   "file_extension": ".py",
   "mimetype": "text/x-python",
   "name": "python",
   "nbconvert_exporter": "python",
   "pygments_lexer": "ipython3",
   "version": "3.5.2"
  },
  "widgets": {
   "state": {},
   "version": "1.1.2"
  }
 },
 "nbformat": 4,
 "nbformat_minor": 1
}
